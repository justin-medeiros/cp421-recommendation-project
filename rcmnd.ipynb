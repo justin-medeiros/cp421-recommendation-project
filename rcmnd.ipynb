{
 "cells": [
  {
   "cell_type": "code",
   "execution_count": 6,
   "metadata": {},
   "outputs": [],
   "source": [
    "import pandas as pd\n",
    "from sklearn.preprocessing import LabelEncoder\n",
    "from sklearn.feature_extraction.text import TfidfVectorizer"
   ]
  },
  {
   "cell_type": "code",
   "execution_count": 9,
   "metadata": {},
   "outputs": [
    {
     "name": "stderr",
     "output_type": "stream",
     "text": [
      "C:\\Users\\Ratul Sarker\\AppData\\Local\\Temp\\ipykernel_20780\\561574360.py:10: DtypeWarning: Columns (3) have mixed types. Specify dtype option on import or set low_memory=False.\n",
      "  books_df = pd.read_csv(books_file)\n"
     ]
    },
    {
     "name": "stdout",
     "output_type": "stream",
     "text": [
      "\n",
      "Data after preprocessing:\n",
      "Unique values in 'Year-Of-Publication': [2002. 2001. 1991. 1999. 2000. 1993. 1996. 1988. 2004. 1998. 1994. 2003.\n",
      " 1997. 1983. 1979. 1995. 1982. 1985. 1992. 1986. 1978. 1980. 1952. 1987.\n",
      " 1990. 1981. 1989. 1984.    0. 1968. 1961. 1958. 1974. 1976. 1971. 1977.\n",
      " 1975. 1965. 1941. 1970. 1962. 1973. 1972. 1960. 1966. 1920. 1956. 1959.\n",
      " 1953. 1951. 1942. 1963. 1964. 1969. 1954. 1950. 1967. 2005. 1957. 1940.\n",
      " 1937. 1955. 1946. 1936. 1930. 2011. 1925. 1948. 1943. 1947. 1945. 1923.\n",
      " 2020. 1939. 1926. 1938. 2030. 1911. 1904. 1949. 1932. 1928. 1929. 1927.\n",
      " 1931. 1914. 2050. 1934. 1910. 1933. 1902. 1924. 1921. 1900. 2038. 2026.\n",
      " 1944. 1917. 1901. 2010. 1908. 1906. 1935. 1806. 2021. 2012. 2006. 1909.\n",
      " 2008. 1378. 1919. 1922. 1897. 2024. 1376. 2037.]\n",
      "\n",
      "Missing values after preprocessing:\n",
      "Users: User-ID     0\n",
      "Location    0\n",
      "Age         0\n",
      "dtype: int64\n",
      "Books: ISBN                   0\n",
      "Book-Title             0\n",
      "Book-Author            0\n",
      "Year-Of-Publication    0\n",
      "Publisher              0\n",
      "Image-URL-S            0\n",
      "Image-URL-M            0\n",
      "Image-URL-L            3\n",
      "dtype: int64\n",
      "Ratings: User-ID        0\n",
      "ISBN           0\n",
      "Book-Rating    0\n",
      "dtype: int64\n"
     ]
    }
   ],
   "source": [
    "#DATA PRECPROCESSING-----------------------------------------------------------------------------------------------\n",
    "\n",
    "# File paths\n",
    "users_file = 'Users.csv'\n",
    "books_file = 'Books.csv'\n",
    "ratings_file = 'Ratings.csv'\n",
    "\n",
    "# Load the datasets\n",
    "users_df = pd.read_csv(users_file)\n",
    "books_df = pd.read_csv(books_file)\n",
    "ratings_df = pd.read_csv(ratings_file)\n",
    "\n",
    "# Users Data Preprocessing\n",
    "# Handle missing values in 'Age' and 'Location'\n",
    "users_df['Age'].fillna(users_df['Age'].median(), inplace=True)\n",
    "users_df['Location'].fillna('Unknown', inplace=True)\n",
    "\n",
    "# Books Data Preprocessing\n",
    "# Convert 'Year-Of-Publication' to numeric and handle non-numeric values\n",
    "books_df['Year-Of-Publication'] = pd.to_numeric(books_df['Year-Of-Publication'], errors='coerce')\n",
    "books_df['Year-Of-Publication'].fillna(books_df['Year-Of-Publication'].median(), inplace=True)\n",
    "# Handle missing values in 'Book-Author' and 'Publisher'\n",
    "books_df['Book-Author'].fillna('Unknown', inplace=True)\n",
    "books_df['Publisher'].fillna('Unknown', inplace=True)\n",
    "\n",
    "# Ratings Data Preprocessing\n",
    "# Merge 'Ratings' with 'Books' to filter out books not in the 'Books' dataset\n",
    "ratings_df = ratings_df[ratings_df['ISBN'].isin(books_df['ISBN'])]\n",
    "\n",
    "# Data Splitting\n",
    "from sklearn.model_selection import train_test_split\n",
    "train_data, test_data = train_test_split(ratings_df, test_size=0.2, random_state=42)\n",
    "\n",
    "# Export Processed Data\n",
    "train_data.to_csv('train_data.csv', index=False)\n",
    "test_data.to_csv('test_data.csv', index=False)\n",
    "\n",
    "# Checking the transformations and missing values after preprocessing\n",
    "print(\"\\nData after preprocessing:\")\n",
    "print(\"Unique values in 'Year-Of-Publication':\", books_df['Year-Of-Publication'].unique())\n",
    "print(\"\\nMissing values after preprocessing:\")\n",
    "print(\"Users:\", users_df.isnull().sum())\n",
    "print(\"Books:\", books_df.isnull().sum())\n",
    "print(\"Ratings:\", ratings_df.isnull().sum())\n",
    "\n"
   ]
  }
 ],
 "metadata": {
  "kernelspec": {
   "display_name": "Python 3",
   "language": "python",
   "name": "python3"
  },
  "language_info": {
   "codemirror_mode": {
    "name": "ipython",
    "version": 3
   },
   "file_extension": ".py",
   "mimetype": "text/x-python",
   "name": "python",
   "nbconvert_exporter": "python",
   "pygments_lexer": "ipython3",
   "version": "3.11.5"
  }
 },
 "nbformat": 4,
 "nbformat_minor": 2
}
